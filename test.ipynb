{
 "cells": [
  {
   "cell_type": "code",
   "execution_count": 43,
   "metadata": {},
   "outputs": [],
   "source": [
    "import pickle\n",
    "import json"
   ]
  },
  {
   "cell_type": "code",
   "execution_count": 44,
   "metadata": {},
   "outputs": [],
   "source": [
    "def load_collection_data_frames(filename='collection_data_frames.pkl'):\n",
    "    with open(filename, 'rb') as file:\n",
    "        data_frames = pickle.load(file)\n",
    "    return data_frames\n",
    "\n",
    "collection_data_frames = load_collection_data_frames()\n",
    "\n"
   ]
  },
  {
   "cell_type": "code",
   "execution_count": 45,
   "metadata": {},
   "outputs": [
    {
     "data": {
      "text/plain": [
       "dict_keys(['Calendar Items', 'Business Service Categories', 'Workspaces', 'Learning Pathway', 'Ticket Order', 'Business Types', 'Event Types', 'Ventures', 'Notes', 'PITCH Categories', 'Folder Types', 'Network Categories', 'Stages', 'Documents', 'Restaurants', 'Tasks', 'Accounts', 'Task Progress status', 'Shopping List Items', 'Contacts', 'Platforms', 'Chats', 'Portfolio Items', 'Tags', 'Enterprises', 'Vendor Types', 'Media', 'AI Chat Messages', 'Announcements', 'User Industry Points', 'Skills', 'Memory Media', 'Event NotesUpdates', 'Space Features', 'Communities', 'Conversations', 'Status Log', 'Chat History', 'Events', 'Venture Media', 'Statuses', 'Service Requests', 'Venture Team Members', 'Ticket Options', 'User Subcategory Points', 'Industry Subcategories', 'Discount Codes', 'Resources', 'Receipts', 'Discount Types', 'Contact Types', 'Business Services', 'Rental Rates', 'Message Attachment Types', 'Calendar Item Types', 'First Contact', 'App Photos', 'PITCH Subcategories', 'Objectives', 'Badge Levels', 'Company Branches', 'Revenues', 'Memories', 'Task Requests', 'Vendors', 'Event Line Items', 'Note Types', 'Expense Types', 'Availability Status', 'Learning Modules', 'Goal Stage', 'Service Request Responses', 'Conversation Log', 'Links', 'Resource Categories', 'GEORGE REWARDS', 'Projects', 'General Ledger Category', 'Income Statements', 'Resource Types', 'Pathway Stages', 'Goal Checkpoints', 'Event Inquiries', 'Folders', 'Event Status', 'Messages', 'Portfolio Projects', 'Task Types', 'Goals', 'Ticket Email', 'Industries', 'Tag Types', 'Spaces', 'User Types', 'Individual Tickets', 'Badges', 'Enterprise Categories', 'Job Opportunities', 'General Ledger Location', 'App Videos', 'Message Attachments', 'Progress Updates', 'Priority Level', 'Explore Categories', 'Expenses', 'Restaurant Menu Items', 'Restaurant Order Items', 'Restaurant Orders', 'Users', 'Channel Messages', 'Channels', 'Restaurant Tip Percentages', 'Restaurant Menu Categories', 'R. Tag Types', 'R. Recipes', 'R. Ingredients', 'R. Tags', 'A. Tags', 'A. Activities'])"
      ]
     },
     "execution_count": 45,
     "metadata": {},
     "output_type": "execute_result"
    }
   ],
   "source": [
    "collection_data_frames.keys()"
   ]
  },
  {
   "cell_type": "code",
   "execution_count": 46,
   "metadata": {},
   "outputs": [
    {
     "name": "stdout",
     "output_type": "stream",
     "text": [
      "{'Calendar Items': ['Event', 'Creating User', 'Users All', 'Calendar Item Type', 'Task'], 'Business Service Categories': [], 'Workspaces': [], 'Learning Pathway': ['User'], 'Ticket Order': ['Event', 'Ticket Option', 'Discount Code'], 'Business Types': [], 'Event Types': ['Mirror Tag'], 'Ventures': ['Users All', 'Business Type', 'Users (Bookmarked Ventures)'], 'Notes': ['Creating User', 'Users All', 'PITCH Category', 'Note Type', 'Project', 'Event'], 'PITCH Categories': ['Mirror Tag', 'Users (Default Category)'], 'Folder Types': [], 'Network Categories': [], 'Stages': ['Project'], 'Documents': ['Folder'], 'Restaurants': [], 'Tasks': ['Assigned User (Main)', 'Creating User', 'Task Priority Level', 'Event', 'Calendar Item', 'Task Type', 'PITCH Category', 'Project'], 'Accounts': [], 'Task Progress status': [], 'Shopping List Items': [], 'Contacts': ['Account', 'Users All', 'Creating User', 'Events (All Contacts)', 'Tags All', 'Contact Type'], 'Platforms': ['Events (Initial Inquiry)', 'Mirror Tag', 'Conversation Logs'], 'Chats': ['Chat Histories (null)', 'PITCH Category', 'Last Message Sent'], 'Portfolio Items': [], 'Tags': ['Event Types (Mirror Tag)', 'Tag Type', 'Platforms (Mirror Tag)', 'Vendor Types (Mirror Tag)', 'Event Line Items (Mirror Tag)', 'Spaces (Mirror Tag)', 'Contact Types (Mirror Tag)', 'Business Categories (Mirror Tag)'], 'Enterprises': ['Enterprise Category'], 'Vendor Types': ['Mirror Tag'], 'Media': ['Space'], 'AI Chat Messages': ['User'], 'Announcements': ['Creating User', 'PITCH Category'], 'User Industry Points': ['User', 'Industry'], 'Skills': [], 'Memory Media': ['Memory'], 'Event NotesUpdates': ['Creating User', 'Event'], 'Space Features': ['Space'], 'Communities': [], 'Conversations': ['Primary Contact', 'Contacts All', 'Users Involved', 'Creating User', 'Conversation Logs', 'Users All', 'PITCH Category'], 'Status Log': ['Status', 'User'], 'Chat History': ['Chat', 'Chats (null)'], 'Events': ['Initial Management Contact', 'Account', 'Event Classification', 'Inquiring Platform', 'Calendar Item', 'Event Tasks', 'Spaces Needed', 'Notes/Updates', 'All Client Contacts', 'Main Client Contact', 'Default Ticket Option', 'Ticket Orders'], 'Venture Media': ['Venture'], 'Statuses': ['Status Logs'], 'Service Requests': ['Venture', 'Industry', 'Creating User', 'Users (Saved)'], 'Venture Team Members': ['User', 'Venture'], 'Ticket Options': ['Event', 'Events (Default Ticket)', 'Ticket Orders'], 'User Subcategory Points': ['User', 'Industry Subcategory', 'Industry', 'User Industry Point'], 'Industry Subcategories': ['Industry', 'Users (Skills)', 'Users (Interested)'], 'Discount Codes': ['Discount Type', 'Ticket Orders'], 'Resources': ['Resource Type', 'Resource Category'], 'Receipts': [], 'Discount Types': [], 'Contact Types': ['Mirror Tag'], 'Business Services': ['Business Service Category'], 'Rental Rates': [], 'Message Attachment Types': [], 'Calendar Item Types': ['Users (Default Calendar Item Type - Task)', 'Users (Default Calendar Item Type - Event)', 'Users (Default Calendar Item Type - Goal)'], 'First Contact': [], 'App Photos': [], 'PITCH Subcategories': ['PITCH Category'], 'Objectives': ['Stage', 'Project'], 'Badge Levels': [], 'Company Branches': [], 'Revenues': ['Event Income Statement'], 'Memories': [], 'Task Requests': [], 'Vendors': [], 'Event Line Items': ['Tags All', 'Mirror Tag'], 'Note Types': ['Users (Default Event)'], 'Expense Types': ['General Ledger Locations (Default Variable)'], 'Availability Status': [], 'Learning Modules': ['Pathway Stages (Modules All)', 'Pathway Stages (Modules Completed)'], 'Goal Stage': [], 'Service Request Responses': ['Service Request', 'User', 'Message'], 'Conversation Log': ['Creating User', 'Conversation', 'Platform', 'Contacts Involved'], 'Links': [], 'Resource Categories': [], 'GEORGE REWARDS': [], 'Projects': ['Creating User', 'All Users', 'PITCH Category', 'PITCH Subcategory', 'Progress status', 'Chat', 'Parent Goals', 'Child Folders'], 'General Ledger Category': ['General Ledger Locations (Default COGS Expense)', 'General Ledger Locations (Default Labor Expense)', 'General Ledger Locations (Default Revenue)'], 'Income Statements': ['Event'], 'Resource Types': [], 'Pathway Stages': ['User', 'Learning Modules All', 'Learning Modules Completed'], 'Goal Checkpoints': [], 'Event Inquiries': [], 'Folders': ['Parent Project', 'Child Notes'], 'Event Status': [], 'Messages': ['Sending User', 'PITCH Category', 'Liking Users', 'Message Attachments (obsolete)', 'Message Attachment', 'Chat', 'Service Request', 'Users Seen'], 'Portfolio Projects': ['Users All', 'Creating User'], 'Task Types': ['Users (Default Event)'], 'Goals': ['Creating User', 'Users All', 'Calendar Item', 'PITCH Category', 'PITCH Subcategory', 'Parent Business Goal', 'Parent Business Goal Stage', 'Children Projects'], 'Ticket Email': [], 'Industries': ['Users (Skills)'], 'Tag Types': [], 'Spaces': ['Events (Spaces Needed)', 'Mirror Tag'], 'User Types': ['Users (Old)', 'Users (New)'], 'Individual Tickets': [], 'Badges': [], 'Enterprise Categories': [], 'Job Opportunities': [], 'General Ledger Location': ['Default Category (Labor Expense)', 'Default Category (COGS Expense)', 'Default Category (Sales)', 'Default Expense Type (Variable)'], 'App Videos': [], 'Message Attachments': ['Message', 'Messages (obsolete)', 'Message Attachment Type'], 'Progress Updates': [], 'Priority Level': ['Event Tasks', 'Users (Default Priority Level)'], 'Explore Categories': [], 'Expenses': ['Expense Type', 'Event Income Statement'], 'Restaurant Menu Items': ['Category', 'Order Items'], 'Restaurant Order Items': ['Order', 'Product'], 'Restaurant Orders': ['Order Items', 'User'], 'Users': ['Events (Initial Contact)', 'Tasks (Assigned Main)', 'Tasks (Creator)', 'Default Task Priority Level', 'Projects (All users)', 'Notes (Creating User)', 'Notes (All Users)', 'Projects (Creating User)', 'Messages Sent', 'Messages Liked', 'Messages Seen', 'Status', 'Status Logs (User Created)', 'Default Note Type- Event', 'Default Task Type- Event', 'Default PITCH Category', 'Conversations (Users Involved)', 'Conversations (Creating User)', 'Conversation Logs (Creating User)', 'Calendar Items (Creating User)', 'Calendar Items (All Users)', 'Default Calendar Item Type - Event', 'Default Calendar Item Type - Task', 'Default Calendar Item Type - Goal', 'Contacts (Users All)', 'Contacts (Creating User)', 'Orders', 'Default Restaurant', 'Test Note', 'Learning Pathways', 'Industry Subcategories (Interested)', 'Industries (Skills)', 'Industry Subcategories (Skills)', 'Goals (Creating User)', 'Goals (All Users)', 'User Types (Old)', 'Service Requests Created', 'Service Requests Saved', 'Conversations (Users All)', 'User Types (New)', 'Portfolio Projects (Users All)', 'Bookmarked Users', 'Bookmarked Ventures', 'Chat Histories', 'Notes/Updates (Creating User)', 'Tasks Requested'], 'Channel Messages': [], 'Channels': [], 'Restaurant Tip Percentages': [], 'Restaurant Menu Categories': ['Products'], 'R. Tag Types': [], 'R. Recipes': [], 'R. Ingredients': [], 'R. Tags': ['R. Tag Type', 'R. Ingredients (Tags All)'], 'A. Tags': ['A. Activities (Tags All)'], 'A. Activities': ['A. Tags All']}\n"
     ]
    }
   ],
   "source": [
    "# Function to check if a value is a list of numbers\n",
    "def is_list_of_numbers(value):\n",
    "    if isinstance(value, list) and all(isinstance(item, (int, float)) for item in value):\n",
    "        return True\n",
    "    return False\n",
    "\n",
    "# Step 1: Create a new dictionary where values are lists of column names that have at least one row containing a list of numbers\n",
    "filtered_collection_columns = {}\n",
    "\n",
    "for collection_name, df in collection_data_frames.items():\n",
    "    filtered_columns = []\n",
    "    for column in df.columns:\n",
    "        if df[column].apply(is_list_of_numbers).any():\n",
    "            filtered_columns.append(column)\n",
    "    filtered_collection_columns[collection_name] = filtered_columns\n",
    "\n",
    "# Step 2: Find collection names that match column names\n",
    "collection_names = set(collection_data_frames.keys())\n",
    "\n",
    "# Step 3: Create a new dictionary where values are lists of columns without matching collection names\n",
    "unique_columns_dict = {}\n",
    "\n",
    "for collection_name, columns in filtered_collection_columns.items():\n",
    "    unique_columns = [col for col in columns if col not in collection_names]\n",
    "    unique_columns_dict[collection_name] = unique_columns\n",
    "\n",
    "# Print the final dictionary for verification\n",
    "print(unique_columns_dict)"
   ]
  },
  {
   "cell_type": "code",
   "execution_count": 49,
   "metadata": {},
   "outputs": [
    {
     "data": {
      "text/plain": [
       "['Events (Initial Contact)',\n",
       " 'Tasks (Assigned Main)',\n",
       " 'Tasks (Creator)',\n",
       " 'Default Task Priority Level',\n",
       " 'Projects (All users)',\n",
       " 'Notes (Creating User)',\n",
       " 'Notes (All Users)',\n",
       " 'Projects (Creating User)',\n",
       " 'Messages Sent',\n",
       " 'Messages Liked',\n",
       " 'Messages Seen',\n",
       " 'Status',\n",
       " 'Status Logs (User Created)',\n",
       " 'Default Note Type- Event',\n",
       " 'Default Task Type- Event',\n",
       " 'Default PITCH Category',\n",
       " 'Conversations (Users Involved)',\n",
       " 'Conversations (Creating User)',\n",
       " 'Conversation Logs (Creating User)',\n",
       " 'Calendar Items (Creating User)',\n",
       " 'Calendar Items (All Users)',\n",
       " 'Default Calendar Item Type - Event',\n",
       " 'Default Calendar Item Type - Task',\n",
       " 'Default Calendar Item Type - Goal',\n",
       " 'Contacts (Users All)',\n",
       " 'Contacts (Creating User)',\n",
       " 'Orders',\n",
       " 'Default Restaurant',\n",
       " 'Test Note',\n",
       " 'Learning Pathways',\n",
       " 'Industry Subcategories (Interested)',\n",
       " 'Industries (Skills)',\n",
       " 'Industry Subcategories (Skills)',\n",
       " 'Goals (Creating User)',\n",
       " 'Goals (All Users)',\n",
       " 'User Types (Old)',\n",
       " 'Service Requests Created',\n",
       " 'Service Requests Saved',\n",
       " 'Conversations (Users All)',\n",
       " 'User Types (New)',\n",
       " 'Portfolio Projects (Users All)',\n",
       " 'Bookmarked Users',\n",
       " 'Bookmarked Ventures',\n",
       " 'Chat Histories',\n",
       " 'Notes/Updates (Creating User)',\n",
       " 'Tasks Requested']"
      ]
     },
     "execution_count": 49,
     "metadata": {},
     "output_type": "execute_result"
    }
   ],
   "source": [
    "unique_columns_dict[\"Users\"]"
   ]
  },
  {
   "cell_type": "code",
   "execution_count": 30,
   "metadata": {},
   "outputs": [],
   "source": [
    "def search_data(search_criteria, collection_data_frames, result=None, visited=None):\n",
    "    if result is None:\n",
    "        result = {}\n",
    "    if visited is None:\n",
    "        visited = set()\n",
    "    \n",
    "    if not search_criteria:\n",
    "        return result\n",
    "    \n",
    "    current_search = search_criteria[0]\n",
    "    collection_name = current_search['collection']\n",
    "    search_key = current_search.get('key')\n",
    "    search_value = current_search.get('value')\n",
    "    columns = current_search.get('columns', ['id', 'Name'])\n",
    "    \n",
    "    if collection_name not in collection_data_frames:\n",
    "        return result\n",
    "    \n",
    "    collection_df = collection_data_frames[collection_name]\n",
    "    \n",
    "    if search_key and search_value:\n",
    "        search_results = collection_df[collection_df[search_key] == search_value]\n",
    "    else:\n",
    "        search_results = collection_df\n",
    "    \n",
    "    if len(search_results) == 0:\n",
    "        return result\n",
    "    \n",
    "    for _, row in search_results.iterrows():\n",
    "        row_data = row.to_dict()\n",
    "        row_id = (collection_name, row_data['id'])\n",
    "        if row_id not in visited:\n",
    "            visited.add(row_id)\n",
    "            item_data = {col: row_data.get(col) for col in columns if col in row_data}\n",
    "            \n",
    "            if len(search_criteria) > 1:\n",
    "                next_searches = search_criteria[1:]\n",
    "                next_search = next_searches[0]\n",
    "                next_collection = next_search['collection']\n",
    "                next_columns = next_search.get('columns', ['id', 'Name'])\n",
    "    \n",
    "                # Check for non-plural version of the column name\n",
    "                next_collection_singular = next_collection[:-1] if next_collection.endswith('s') else next_collection\n",
    "                if next_collection_singular in row_data:\n",
    "                    next_search_ids = row_data[next_collection_singular]\n",
    "                elif next_collection in row_data:\n",
    "                    next_search_ids = row_data[next_collection]\n",
    "                else:\n",
    "                    next_search_ids = None\n",
    "                \n",
    "                if next_search_ids is not None:\n",
    "                    if isinstance(next_search_ids, list):\n",
    "                        item_data[next_collection] = []\n",
    "                        for search_id in next_search_ids:\n",
    "                            next_search_criteria = [{'collection': next_collection, 'key': 'id', 'value': search_id, 'columns': next_columns}] + next_searches[1:]\n",
    "                            next_result = search_data(next_search_criteria, collection_data_frames, {}, visited)\n",
    "                            if next_result:\n",
    "                                item_data[next_collection].append(next_result[next_collection][0])\n",
    "                    else:\n",
    "                        next_search_criteria = [{'collection': next_collection, 'key': 'id', 'value': next_search_ids, 'columns': next_columns}] + next_searches[1:]\n",
    "                        next_result = search_data(next_search_criteria, collection_data_frames, {}, visited)\n",
    "                        if next_result:\n",
    "                            item_data[next_collection] = next_result[next_collection][0]\n",
    "            \n",
    "            if collection_name not in result:\n",
    "                result[collection_name] = [item_data]\n",
    "            else:\n",
    "                result[collection_name].append(item_data)\n",
    "    \n",
    "    return result"
   ]
  },
  {
   "cell_type": "code",
   "execution_count": 33,
   "metadata": {},
   "outputs": [
    {
     "name": "stdout",
     "output_type": "stream",
     "text": [
      "{\n",
      "  \"Users\": [\n",
      "    {\n",
      "      \"id\": 2,\n",
      "      \"Full Name\": \"Willie Barron\"\n",
      "    }\n",
      "  ]\n",
      "}\n"
     ]
    }
   ],
   "source": [
    "search_criteria = [\n",
    "  {\"collection\": \"Users\", \"key\": \"Full Name\", \"value\": \"Willie Barron\", \"columns\": [\"Tasks (Creator)\", \"Full Name\"]},\n",
    "]\n",
    "\n",
    "search_criteria = [\n",
    "  {'collection': 'Users', 'key': 'Full Name', 'value': 'Willie Barron', 'columns': ['id', 'Full Name']},\n",
    "  {'collection': 'Tasks', 'columns': ['id']},\n",
    "  # {'collection': 'Messages', 'columns': ['id', 'Text']},\n",
    "]\n",
    "\n",
    "\n",
    "\n",
    "result = search_data(search_criteria, collection_data_frames)\n",
    "result = json.dumps(result, indent=2)\n",
    "print(result)"
   ]
  }
 ],
 "metadata": {
  "kernelspec": {
   "display_name": "adalo",
   "language": "python",
   "name": "python3"
  },
  "language_info": {
   "codemirror_mode": {
    "name": "ipython",
    "version": 3
   },
   "file_extension": ".py",
   "mimetype": "text/x-python",
   "name": "python",
   "nbconvert_exporter": "python",
   "pygments_lexer": "ipython3",
   "version": "3.11.5"
  }
 },
 "nbformat": 4,
 "nbformat_minor": 2
}
